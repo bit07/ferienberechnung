from datetime import date
from datetime import timedelta
from calendar import monthrange

#Konstanten
referenzarbeitstag = 8.4
NORM_MONTH = 30
NORM_YEAR = 12 * NORM_MONTH


#Eingabe Parameter
ferienanspruch_pro_jahr = 25

#beschäftigungen
beschaeftigungen = [
    { 
    "nr" : 1,
    "bg": 100,
     "von": "2023-12-01",
     "bis": "2024-01-31",
     "ref_tag": referenzarbeitstag,
     "tot_pa": ferienanspruch_pro_jahr},
    
    { 
    "nr" : 2,
    "bg": 50,
     "von": "2024-02-01",
     "bis": "2025-12-31",
     "ref_tag": referenzarbeitstag,
     "tot_pa": ferienanspruch_pro_jahr},
]

def convert_minutes(minutes):
    h = minutes // 60
    m = minutes % 60
    return (h, m)

def isLastDayOfMonth(d):
    last_day = date(d.year, d.month, monthrange(d.year, d.month)[1])
    return d == last_day

def isFirstDayOfMonth(d):
    return d.day == 1
    
def days_between(f, t):
    if (isFirstDayOfMonth(f) & isLastDayOfMonth(t)):
        diff = t - f
        return NORM_MONTH * round(diff.days/NORM_MONTH)
    else:
        remaining_days_from = NORM_MONTH - f.day
        remaining_days_to = t.day
        f_shift = date(f.year, f.month + 1, 1)       
        norm_days = NORM_MONTH * round((t - f_shift).days/NORM_MONTH)
        return remaining_days_from + norm_days + remaining_days_to
        
def slice_per_year(f, t):
    l = []
    for y in range(f.year, t.year + 1):
        l.append([date(y, 1, 1), date(y, 12, 31)])
    l[0][0] = f
    l[-1][-1] = t
    return l
    
def berechne_ferienguthaben_pro_monat(beschaeftigung):
    ref_tag_in_minuten = beschaeftigung['ref_tag'] * 60
    bg_ref_tag_in_minuten = round(ref_tag_in_minuten * beschaeftigung['bg'] / 100)
    ferienanspruch_pro_jahr_in_minuten = bg_ref_tag_in_minuten * beschaeftigung['tot_pa']
    
    von_datum = date.fromisoformat(beschaeftigung['von'])
    bis_datum = date.fromisoformat(beschaeftigung['bis'])
    ret = []
    for from_date, to_date in slice_per_year(von_datum, bis_datum):  
        tage_beschaeftigung = days_between(from_date, to_date)
        ferien_pro_rata_temporis = round(ferienanspruch_pro_jahr_in_minuten / NORM_YEAR * tage_beschaeftigung)
        ret.append([(from_date, to_date), ferien_pro_rata_temporis, tage_beschaeftigung, ferienanspruch_pro_jahr_in_minuten])
    return ret

for beschaeftigung in beschaeftigungen:
    for res in berechne_ferienguthaben_pro_monat(beschaeftigung):
        beschaeftigung_von_bis = res[0]
        s = beschaeftigung_von_bis[0].strftime('%Y-%m-%d') + " - " + beschaeftigung_von_bis[1].strftime('%Y-%m-%d')
        f = f'%r:%02d' % convert_minutes(res[1])
        meta = '[NR:{nr}, BG:{bg}, RAT:{ref_tag}, FER:{tot_pa}]'.format(**beschaeftigung)
        print(f'%s : %8s (%5d von %5d Minuten während %3d Tagen) %s' % (s, f, res[1], res[3], res[2], meta) )